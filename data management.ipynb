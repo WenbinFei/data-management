{
 "cells": [
  {
   "cell_type": "markdown",
   "metadata": {},
   "source": [
    "### DATA MANAGEMENT\n",
    "#### Commonly used file and folder manipulation commands\n",
    "In this notebook, I gather my commonly used python bits for file and folder manipulation. If you work with many different samples, tools and programs and frequently find yourself adding, deleting, renaming or replacing large numbers of files and/or directories, you might find this notebook useful. There are undoubtedly better ways of doing some of these things so feel free to suggest improvements.\n",
    "\n",
    "I generally like to keep the directory structure relatively flat to avoid lots of navigating. In my research, I use 5 - 6 different programs and tools that generate a few files each. I use the following directory structure:\n",
    "```\n",
    "project\n",
    "│    dir_list.txt\n",
    "│\n",
    "└─── sample_1\n",
    "│   │\n",
    "│   └─── tool_1\n",
    "│   │   │   tool_1_file_1\n",
    "│   │   │   tool_1_file_2\n",
    "│   │   │   ...\n",
    "│   │\n",
    "│   └─── tool_2\n",
    "│   │   │   tool_2_file_1\n",
    "│   │   │   tool_2_file_2\n",
    "│   │   │   ...\n",
    "│   │\n",
    "│   └─── ...\n",
    "│\n",
    "└─── sample_2\n",
    "│   └─── ...\n",
    "│ ...\n",
    "```\n",
    "This helps to keep the data organized and allows easy access to the corresponding files and directories using the steps below. The file `dir_list.txt` contains the absolute paths to the directories `sample_1`, `sample_2`, etc. (see step 1) and serves as the entry-point for most operations. It also allows you to gather all the data in a single dataframe to perform analysis (see step 7)."
   ]
  },
  {
   "cell_type": "code",
   "execution_count": 1,
   "metadata": {
    "collapsed": false
   },
   "outputs": [],
   "source": [
    "import os\n",
    "import shutil\n",
    "import pandas as pd"
   ]
  },
  {
   "cell_type": "markdown",
   "metadata": {},
   "source": [
    "#### Setting up some examples"
   ]
  },
  {
   "cell_type": "code",
   "execution_count": 2,
   "metadata": {
    "collapsed": false
   },
   "outputs": [],
   "source": [
    "def create_some_files_here(path, name):\n",
    "    for i in [name + '_file_a.txt', name + '_file_b.txt']:    \n",
    "        with open(os.path.join(path, i), 'w') as f:\n",
    "            f.write(name + '_content_a\\n')\n",
    "            f.write(name + '_content_b\\n')\n",
    "\n",
    "def setup_examples(example_dir):\n",
    "    if not os.path.exists(example_dir):\n",
    "        os.mkdir(example_dir)\n",
    "\n",
    "    dirs = [a + str(b) for b in range(3) for a in ['sample_A_','sample_B_']]\n",
    "    for i in dirs:\n",
    "        my_dir = os.path.join(example_dir, i)\n",
    "        if not os.path.exists(my_dir):\n",
    "            os.mkdir(my_dir)\n",
    "        \n",
    "        create_some_files_here(my_dir, 'sample')\n",
    "        \n",
    "        for j in ['tool_a','tool_b','tool_c']:\n",
    "            sub_dir = os.path.join(my_dir, j)\n",
    "            if not os.path.exists(sub_dir):\n",
    "                os.mkdir(sub_dir) \n",
    "            \n",
    "            create_some_files_here(sub_dir, 'tool')\n",
    "\n",
    "example_dir = 'example'\n",
    "setup_examples(example_dir)"
   ]
  },
  {
   "cell_type": "markdown",
   "metadata": {},
   "source": [
    "#### 1. Creating a list of all sub-directories of a certain directory\n",
    "Start with this step to specify the directory that contains the files/directories to be used in later steps."
   ]
  },
  {
   "cell_type": "code",
   "execution_count": 3,
   "metadata": {
    "collapsed": true
   },
   "outputs": [],
   "source": [
    "example_dir = 'example'\n",
    "sub_dirs    = os.listdir(example_dir)\n",
    "abs_path    = os.path.abspath(example_dir)"
   ]
  },
  {
   "cell_type": "markdown",
   "metadata": {},
   "source": [
    "Write the paths to all sub-directories and files in `example_dir` to the text file `content_list.txt`:"
   ]
  },
  {
   "cell_type": "code",
   "execution_count": 4,
   "metadata": {
    "collapsed": false
   },
   "outputs": [],
   "source": [
    "output_file = os.path.join(example_dir, 'content_list.txt')\n",
    "\n",
    "with open(output_file, 'w') as f:\n",
    "    for sub_dir in sub_dirs:\n",
    "        sub_path = os.path.join(abs_path, sub_dir)\n",
    "        f.write(sub_path + '\\n')"
   ]
  },
  {
   "cell_type": "markdown",
   "metadata": {},
   "source": [
    "Write the paths to all sub-directories of `example_dir` to the text file `dir_list.txt`:"
   ]
  },
  {
   "cell_type": "code",
   "execution_count": 5,
   "metadata": {
    "collapsed": false
   },
   "outputs": [],
   "source": [
    "output_file = os.path.join(example_dir, 'dir_list.txt')\n",
    "\n",
    "with open(output_file, 'w') as f:\n",
    "    for sub_dir in sub_dirs:\n",
    "        sub_path = os.path.join(abs_path, sub_dir)\n",
    "        if os.path.isdir(sub_path):\n",
    "            f.write(sub_path + '\\n')"
   ]
  },
  {
   "cell_type": "markdown",
   "metadata": {},
   "source": [
    "Write the paths to all sub-directories of `example_dir` with the string `_A_` in the directory name:"
   ]
  },
  {
   "cell_type": "code",
   "execution_count": 6,
   "metadata": {
    "collapsed": true
   },
   "outputs": [],
   "source": [
    "output_file = os.path.join(example_dir, 'dir_list_A.txt')\n",
    "\n",
    "with open(output_file, 'w') as f:\n",
    "    for sub_dir in sub_dirs:\n",
    "        sub_path = os.path.join(abs_path, sub_dir)\n",
    "        if (os.path.isdir(sub_path)) and ('_A_' in sub_dir):\n",
    "            f.write(sub_path + '\\n')"
   ]
  },
  {
   "cell_type": "markdown",
   "metadata": {},
   "source": [
    "Write the paths to all sub-directories of `example_dir` that end with `_0`:"
   ]
  },
  {
   "cell_type": "code",
   "execution_count": 7,
   "metadata": {
    "collapsed": true
   },
   "outputs": [],
   "source": [
    "output_file = os.path.join(example_dir, 'dir_list_0.txt')\n",
    "\n",
    "with open(output_file, 'w') as f:\n",
    "    for sub_dir in sub_dirs:\n",
    "        sub_path = os.path.join(abs_path, sub_dir)\n",
    "        if (os.path.isdir(sub_path)) and (sub_dir.endswith('_0')):\n",
    "            f.write(sub_path + '\\n')"
   ]
  },
  {
   "cell_type": "markdown",
   "metadata": {},
   "source": [
    "#### 2. Creating directories\n",
    "This assumes the files and/or directories to be removed are specified in a text file, as shown in the previous step."
   ]
  },
  {
   "cell_type": "code",
   "execution_count": 8,
   "metadata": {
    "collapsed": true
   },
   "outputs": [],
   "source": [
    "example_dir  = 'example'"
   ]
  },
  {
   "cell_type": "markdown",
   "metadata": {},
   "source": [
    "Add a sub-directory `dir_d` to all directories listed in `dir_list_A.txt`:"
   ]
  },
  {
   "cell_type": "code",
   "execution_count": 9,
   "metadata": {
    "collapsed": true
   },
   "outputs": [],
   "source": [
    "path_list_file = os.path.join(example_dir, 'dir_list_A.txt')\n",
    "path_list      = [line.strip() for line in open(path_list_file, 'r')]\n",
    "\n",
    "for path in path_list:\n",
    "    new_dir = os.path.join(path, 'dir_d')\n",
    "    if not os.path.isdir(new_dir):\n",
    "        os.mkdir(new_dir)"
   ]
  },
  {
   "cell_type": "markdown",
   "metadata": {},
   "source": [
    "#### 3. Removing files or directories\n",
    "Note: **use with caution**."
   ]
  },
  {
   "cell_type": "code",
   "execution_count": 10,
   "metadata": {
    "collapsed": true
   },
   "outputs": [],
   "source": [
    "example_dir  = 'example'"
   ]
  },
  {
   "cell_type": "markdown",
   "metadata": {},
   "source": [
    "Remove all directories (and the contents) listed in `dir_list_A.txt` with `shutil.rmtree`: "
   ]
  },
  {
   "cell_type": "code",
   "execution_count": 11,
   "metadata": {
    "collapsed": false
   },
   "outputs": [],
   "source": [
    "path_list_file = os.path.join(example_dir, 'dir_list_A.txt')\n",
    "path_list      = [line.strip() for line in open(path_list_file, 'r')]\n",
    "\n",
    "for path in path_list:\n",
    "    if os.path.isdir(path):\n",
    "        shutil.rmtree(path, ignore_errors=True)"
   ]
  },
  {
   "cell_type": "markdown",
   "metadata": {},
   "source": [
    "Remove all files from the directories listed in `dir_list_0.txt`:"
   ]
  },
  {
   "cell_type": "code",
   "execution_count": 12,
   "metadata": {
    "collapsed": false
   },
   "outputs": [],
   "source": [
    "path_list_file = os.path.join(example_dir, 'dir_list_0.txt')\n",
    "path_list      = [line.strip() for line in open(path_list_file, 'r')]\n",
    "\n",
    "for path in path_list:\n",
    "    if os.path.isdir(path):\n",
    "        for file_name in os.listdir(path):\n",
    "            file_path = os.path.join(path, file_name)\n",
    "            if os.path.isfile(file_path):\n",
    "                os.remove(file_path)"
   ]
  },
  {
   "cell_type": "markdown",
   "metadata": {},
   "source": [
    "Remove all files ending with `_a` from the directories listed in `dir_list.txt`:"
   ]
  },
  {
   "cell_type": "code",
   "execution_count": 13,
   "metadata": {
    "collapsed": false
   },
   "outputs": [],
   "source": [
    "path_list_file = os.path.join(example_dir, 'dir_list.txt')\n",
    "path_list      = [line.strip() for line in open(path_list_file, 'r')]\n",
    "\n",
    "for path in path_list:\n",
    "    if os.path.isdir(path):\n",
    "        for file_name in os.listdir(path):\n",
    "            file_path = os.path.join(path, file_name)\n",
    "            if (os.path.isfile(file_path)) and (file_name.endswith('_a')):\n",
    "                os.remove(file_path)"
   ]
  },
  {
   "cell_type": "markdown",
   "metadata": {},
   "source": [
    "#### 4. Renaming and moving files \n",
    "Since a lot of directories/files just got deleted, `setup_examples()` is run first."
   ]
  },
  {
   "cell_type": "code",
   "execution_count": 14,
   "metadata": {
    "collapsed": true
   },
   "outputs": [],
   "source": [
    "example_dir = 'example'\n",
    "setup_examples(example_dir)"
   ]
  },
  {
   "cell_type": "markdown",
   "metadata": {},
   "source": [
    "Rename all `sample_file_a.txt` files in the directories listed in `dir_list.txt` to `sample_file_c.txt`:"
   ]
  },
  {
   "cell_type": "code",
   "execution_count": 15,
   "metadata": {
    "collapsed": false
   },
   "outputs": [],
   "source": [
    "path_list_file = os.path.join(example_dir, 'dir_list.txt')\n",
    "path_list      = [line.strip() for line in open(path_list_file, 'r')]\n",
    "target_file    = 'sample_file_a.txt'\n",
    "rename_to      = 'sample_file_c.txt'\n",
    "\n",
    "for path in path_list:\n",
    "    src = os.path.join(path, target_file)\n",
    "    if os.path.isfile(src):\n",
    "        dst = os.path.join(path, rename_to)\n",
    "        os.rename(src, dst)"
   ]
  },
  {
   "cell_type": "markdown",
   "metadata": {},
   "source": [
    "Rename all `tool_b` sub-directories in the directories listed in `dir_list_A.txt` to `tool_d`:"
   ]
  },
  {
   "cell_type": "code",
   "execution_count": 16,
   "metadata": {
    "collapsed": false
   },
   "outputs": [],
   "source": [
    "path_list_file = os.path.join(example_dir, 'dir_list_A.txt')\n",
    "path_list      = [line.strip() for line in open(path_list_file, 'r')]\n",
    "target_dir     = 'tool_b'\n",
    "rename_to      = 'tool_d'\n",
    "\n",
    "for path in path_list:\n",
    "    src = os.path.join(path, target_dir)\n",
    "    if os.path.isdir(src):\n",
    "        dst = os.path.join(path, rename_to)\n",
    "        if not os.path.isdir(dst):\n",
    "            os.rename(src, dst)"
   ]
  },
  {
   "cell_type": "markdown",
   "metadata": {},
   "source": [
    "Move all `sample_file_c.txt` files in the directories listed in `dir_list_A.txt` to the sub-directory `tool_c`:"
   ]
  },
  {
   "cell_type": "code",
   "execution_count": 17,
   "metadata": {
    "collapsed": false
   },
   "outputs": [],
   "source": [
    "path_list_file = os.path.join(example_dir, 'dir_list_A.txt')\n",
    "path_list      = [line.strip() for line in open(path_list_file, 'r')]\n",
    "target_file    = 'sample_file_c.txt'\n",
    "move_to        = os.path.join('tool_c', target_file)\n",
    "\n",
    "for path in path_list:\n",
    "    src = os.path.join(path, target_file)\n",
    "    if os.path.isfile(src):\n",
    "        dst = os.path.join(path, move_to)\n",
    "        os.rename(src, dst)"
   ]
  },
  {
   "cell_type": "markdown",
   "metadata": {},
   "source": [
    "#### 5. Copying directories and files"
   ]
  },
  {
   "cell_type": "markdown",
   "metadata": {},
   "source": [
    "Copy `tool_c/sample_file_c.txt` to `tool_d/sample_file_c.txt` for all directories liste din `dir_list_A.txt`:"
   ]
  },
  {
   "cell_type": "code",
   "execution_count": 18,
   "metadata": {
    "collapsed": false
   },
   "outputs": [],
   "source": [
    "path_list_file = os.path.join(example_dir, 'dir_list_A.txt')\n",
    "path_list      = [line.strip() for line in open(path_list_file, 'r')]\n",
    "target_file    = os.path.join('tool_c', 'sample_file_c.txt')\n",
    "copy_to        = os.path.join('tool_d', 'sample_file_c.txt')\n",
    "\n",
    "for path in path_list:\n",
    "    src = os.path.join(path, target_file)\n",
    "    if os.path.isfile(src):\n",
    "        dst = os.path.join(path, copy_to)\n",
    "        shutil.copyfile(src, dst)"
   ]
  },
  {
   "cell_type": "markdown",
   "metadata": {},
   "source": [
    "Copy `tool_a` and its contents to three new directories, for all directories listed in `dir_list_0.txt`:"
   ]
  },
  {
   "cell_type": "code",
   "execution_count": 19,
   "metadata": {
    "collapsed": false
   },
   "outputs": [],
   "source": [
    "path_list_file = os.path.join(example_dir, 'dir_list_0.txt')\n",
    "path_list      = [line.strip() for line in open(path_list_file, 'r')]\n",
    "target_dir     = 'tool_a'\n",
    "\n",
    "for path in path_list:\n",
    "    src = os.path.join(path, target_dir)\n",
    "    if os.path.isdir(src):\n",
    "        for i in range(3):\n",
    "            dst = os.path.join(path, target_dir + '_' + str(i))\n",
    "            if not os.path.exists(dst):\n",
    "                shutil.copytree(src, dst)"
   ]
  },
  {
   "cell_type": "markdown",
   "metadata": {},
   "source": [
    "#### 6.  Editing the contents of existing files\n",
    "Use this if you have generated a large number of (text) files and find that you need to edit some of the content. "
   ]
  },
  {
   "cell_type": "code",
   "execution_count": 20,
   "metadata": {
    "collapsed": false
   },
   "outputs": [],
   "source": [
    "path_list_file = os.path.join(example_dir, 'dir_list_0.txt')\n",
    "path_list      = [line.strip() for line in open(path_list_file, 'r')]\n",
    "target_file    = os.path.join('tool_a', 'tool_file_a.txt')\n",
    "\n",
    "for path in path_list:\n",
    "    target_path = os.path.join(path, target_file)\n",
    "    if os.path.isfile(target_path):\n",
    "        content = [line.strip() for line in open(target_path,'r')]\n",
    "    \n",
    "        for idx,line in enumerate(content):\n",
    "            if idx == 1:\n",
    "                content[idx] = 'content_fixed\\n'\n",
    "\n",
    "        with open(target_path, 'w') as f:\n",
    "            f.write('\\n'.join(content))"
   ]
  },
  {
   "cell_type": "markdown",
   "metadata": {
    "collapsed": true
   },
   "source": [
    "#### 7. Gathering data from the output files\n",
    "After running your programs and generating the output for each tool, use this step to collect all the data in a dataframe for analysis. "
   ]
  },
  {
   "cell_type": "code",
   "execution_count": 21,
   "metadata": {
    "collapsed": false
   },
   "outputs": [
    {
     "data": {
      "text/html": [
       "<div>\n",
       "<table border=\"1\" class=\"dataframe\">\n",
       "  <thead>\n",
       "    <tr style=\"text-align: right;\">\n",
       "      <th></th>\n",
       "      <th>path</th>\n",
       "      <th>sample_parameter_a</th>\n",
       "      <th>sample_parameter_b</th>\n",
       "      <th>tool_a_parameter_a</th>\n",
       "      <th>tool_a_parameter_b</th>\n",
       "      <th>tool_b_parameter_a</th>\n",
       "      <th>tool_b_parameter_b</th>\n",
       "    </tr>\n",
       "  </thead>\n",
       "  <tbody>\n",
       "    <tr>\n",
       "      <th>0</th>\n",
       "      <td>/Users/joostv/Desktop/Research/Code/Other/[Git...</td>\n",
       "      <td>sample_content_a</td>\n",
       "      <td>sample_content_b</td>\n",
       "      <td>tool_content_a</td>\n",
       "      <td>content_fixed</td>\n",
       "      <td>tool_content_a</td>\n",
       "      <td>tool_content_b</td>\n",
       "    </tr>\n",
       "    <tr>\n",
       "      <th>1</th>\n",
       "      <td>/Users/joostv/Desktop/Research/Code/Other/[Git...</td>\n",
       "      <td>sample_content_a</td>\n",
       "      <td>sample_content_b</td>\n",
       "      <td>tool_content_a</td>\n",
       "      <td>tool_content_b</td>\n",
       "      <td>tool_content_a</td>\n",
       "      <td>tool_content_b</td>\n",
       "    </tr>\n",
       "    <tr>\n",
       "      <th>2</th>\n",
       "      <td>/Users/joostv/Desktop/Research/Code/Other/[Git...</td>\n",
       "      <td>sample_content_a</td>\n",
       "      <td>sample_content_b</td>\n",
       "      <td>tool_content_a</td>\n",
       "      <td>tool_content_b</td>\n",
       "      <td>tool_content_a</td>\n",
       "      <td>tool_content_b</td>\n",
       "    </tr>\n",
       "    <tr>\n",
       "      <th>3</th>\n",
       "      <td>/Users/joostv/Desktop/Research/Code/Other/[Git...</td>\n",
       "      <td>sample_content_a</td>\n",
       "      <td>sample_content_b</td>\n",
       "      <td>tool_content_a</td>\n",
       "      <td>content_fixed</td>\n",
       "      <td>tool_content_a</td>\n",
       "      <td>tool_content_b</td>\n",
       "    </tr>\n",
       "    <tr>\n",
       "      <th>4</th>\n",
       "      <td>/Users/joostv/Desktop/Research/Code/Other/[Git...</td>\n",
       "      <td>sample_content_a</td>\n",
       "      <td>sample_content_b</td>\n",
       "      <td>tool_content_a</td>\n",
       "      <td>tool_content_b</td>\n",
       "      <td>tool_content_a</td>\n",
       "      <td>tool_content_b</td>\n",
       "    </tr>\n",
       "  </tbody>\n",
       "</table>\n",
       "</div>"
      ],
      "text/plain": [
       "                                                path sample_parameter_a  \\\n",
       "0  /Users/joostv/Desktop/Research/Code/Other/[Git...   sample_content_a   \n",
       "1  /Users/joostv/Desktop/Research/Code/Other/[Git...   sample_content_a   \n",
       "2  /Users/joostv/Desktop/Research/Code/Other/[Git...   sample_content_a   \n",
       "3  /Users/joostv/Desktop/Research/Code/Other/[Git...   sample_content_a   \n",
       "4  /Users/joostv/Desktop/Research/Code/Other/[Git...   sample_content_a   \n",
       "\n",
       "  sample_parameter_b tool_a_parameter_a tool_a_parameter_b tool_b_parameter_a  \\\n",
       "0   sample_content_b     tool_content_a      content_fixed     tool_content_a   \n",
       "1   sample_content_b     tool_content_a     tool_content_b     tool_content_a   \n",
       "2   sample_content_b     tool_content_a     tool_content_b     tool_content_a   \n",
       "3   sample_content_b     tool_content_a      content_fixed     tool_content_a   \n",
       "4   sample_content_b     tool_content_a     tool_content_b     tool_content_a   \n",
       "\n",
       "  tool_b_parameter_b  \n",
       "0     tool_content_b  \n",
       "1     tool_content_b  \n",
       "2     tool_content_b  \n",
       "3     tool_content_b  \n",
       "4     tool_content_b  "
      ]
     },
     "execution_count": 21,
     "metadata": {},
     "output_type": "execute_result"
    }
   ],
   "source": [
    "path_list_file = os.path.join(example_dir, 'dir_list.txt')\n",
    "path_list      = [line.strip() for line in open(path_list_file, 'r')]\n",
    "data_set       = []\n",
    "\n",
    "# Create a custom function for every type of file you want to read in\n",
    "# (in this example, all the content is the same)\n",
    "def read_sample_file_b(sample_data, f):\n",
    "    content = f.readlines()\n",
    "    sample_data['sample_parameter_a'] = content[0].strip()\n",
    "    sample_data['sample_parameter_b'] = content[1].strip()\n",
    "    \n",
    "def read_tool_file_a(sample_data, f):\n",
    "    content = f.readlines()\n",
    "    sample_data['tool_a_parameter_a'] = content[0].strip()\n",
    "    sample_data['tool_a_parameter_b'] = content[1].strip()\n",
    "\n",
    "def read_tool_file_b(sample_data, f):\n",
    "    content = f.readlines()\n",
    "    sample_data['tool_b_parameter_a'] = content[0].strip()\n",
    "    sample_data['tool_b_parameter_b'] = content[1].strip()\n",
    "\n",
    "for path in path_list:\n",
    "    sample_data         = {}        \n",
    "    sample_data['path'] = path\n",
    "    \n",
    "    sample_file = os.path.join(path, 'sample_file_b.txt')\n",
    "    if os.path.isfile(sample_file):\n",
    "        with open(sample_file, 'r') as f:\n",
    "            read_sample_file_b(sample_data, f)\n",
    "    \n",
    "    tool_dir = os.path.join(path, 'tool_a')\n",
    "    for tool_file in os.listdir(tool_dir):\n",
    "        if tool_file == 'tool_file_a.txt':\n",
    "            with open(os.path.join(tool_dir, tool_file), 'r') as f:\n",
    "                read_tool_file_a(sample_data, f)\n",
    "        elif tool_file == 'tool_file_b.txt':\n",
    "            with open(os.path.join(tool_dir, tool_file), 'r') as f:\n",
    "                read_tool_file_b(sample_data, f)\n",
    "    \n",
    "    # ...repeat as needed, for other tools\n",
    "    \n",
    "    data_set.append(sample_data)\n",
    "\n",
    "# Create dataframe\n",
    "df = pd.DataFrame(data_set)\n",
    "df.head()"
   ]
  }
 ],
 "metadata": {
  "kernelspec": {
   "display_name": "Python 2",
   "language": "python",
   "name": "python2"
  },
  "language_info": {
   "codemirror_mode": {
    "name": "ipython",
    "version": 2
   },
   "file_extension": ".py",
   "mimetype": "text/x-python",
   "name": "python",
   "nbconvert_exporter": "python",
   "pygments_lexer": "ipython2",
   "version": "2.7.12"
  }
 },
 "nbformat": 4,
 "nbformat_minor": 0
}
